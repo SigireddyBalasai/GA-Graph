{
 "cells": [
  {
   "cell_type": "code",
   "execution_count": 1,
   "metadata": {},
   "outputs": [
    {
     "name": "stderr",
     "output_type": "stream",
     "text": [
      "2023-12-11 12:27:44.684779: I external/local_tsl/tsl/cuda/cudart_stub.cc:31] Could not find cuda drivers on your machine, GPU will not be used.\n",
      "2023-12-11 12:27:44.716882: E external/local_xla/xla/stream_executor/cuda/cuda_dnn.cc:9261] Unable to register cuDNN factory: Attempting to register factory for plugin cuDNN when one has already been registered\n",
      "2023-12-11 12:27:44.716916: E external/local_xla/xla/stream_executor/cuda/cuda_fft.cc:607] Unable to register cuFFT factory: Attempting to register factory for plugin cuFFT when one has already been registered\n",
      "2023-12-11 12:27:44.717984: E external/local_xla/xla/stream_executor/cuda/cuda_blas.cc:1515] Unable to register cuBLAS factory: Attempting to register factory for plugin cuBLAS when one has already been registered\n",
      "2023-12-11 12:27:44.723789: I external/local_tsl/tsl/cuda/cudart_stub.cc:31] Could not find cuda drivers on your machine, GPU will not be used.\n",
      "2023-12-11 12:27:44.724321: I tensorflow/core/platform/cpu_feature_guard.cc:182] This TensorFlow binary is optimized to use available CPU instructions in performance-critical operations.\n",
      "To enable the following instructions: AVX2 FMA, in other operations, rebuild TensorFlow with the appropriate compiler flags.\n"
     ]
    }
   ],
   "source": [
    "from matplotlib import pyplot as plt\n",
    "from graph import create_random_graph , to_useful, assign_states\n",
    "import networkx as nx\n",
    "from model import create_model\n",
    "import tensorflow as tf\n",
    "from mutate import mutate_dag\n",
    "from crossover import crossover\n",
    "from Individual import Individual\n",
    "from Generation import Generation\n",
    "import visualkeras"
   ]
  },
  {
   "cell_type": "code",
   "execution_count": null,
   "metadata": {},
   "outputs": [
    {
     "name": "stdout",
     "output_type": "stream",
     "text": [
      "input\n"
     ]
    },
    {
     "data": {
      "image/png": "[encoded data removed]",
      "text/plain": [
       "<Figure size 640x480 with 1 Axes>"
      ]
     },
     "metadata": {},
     "output_type": "display_data"
    }
   ],
   "source": [
    "g1 = create_random_graph(5,0.8)\n",
    "g1 = assign_states(g1,(1,3,1))\n",
    "print(g1.nodes[0]['state'])\n",
    "nx.draw(g1, with_labels=True)\n",
    "plt.draw()"
   ]
  },
  {
   "cell_type": "code",
   "execution_count": null,
   "metadata": {},
   "outputs": [
    {
     "name": "stdout",
     "output_type": "stream",
     "text": [
      "{0, 1, 2, 3, 4}\n"
     ]
    },
    {
     "data": {
      "text/plain": [
       "OutEdgeDataView([])"
      ]
     },
     "execution_count": 3,
     "metadata": {},
     "output_type": "execute_result"
    },
    {
     "data": {
      "image/png": "[encoded data removed]",
      "text/plain": [
       "<Figure size 640x480 with 1 Axes>"
      ]
     },
     "metadata": {},
     "output_type": "display_data"
    }
   ],
   "source": [
    "g1 = to_useful(g1)\n",
    "nx.draw(g1, with_labels=True)\n",
    "plt.draw()\n",
    "g1.edges(data=True)"
   ]
  },
  {
   "cell_type": "code",
   "execution_count": null,
   "metadata": {},
   "outputs": [
    {
     "data": {
      "text/plain": [
       "NodeView((0, 4))"
      ]
     },
     "execution_count": 4,
     "metadata": {},
     "output_type": "execute_result"
    }
   ],
   "source": [
    "g1.nodes"
   ]
  },
  {
   "cell_type": "code",
   "execution_count": null,
   "metadata": {},
   "outputs": [
    {
     "name": "stderr",
     "output_type": "stream",
     "text": [
      "/home/codespace/.python/current/lib/python3.10/site-packages/tqdm/auto.py:21: TqdmWarning: IProgress not found. Please update jupyter and ipywidgets. See https://ipywidgets.readthedocs.io/en/stable/user_install.html\n",
      "  from .autonotebook import tqdm as notebook_tqdm\n"
     ]
    },
    {
     "name": "stdout",
     "output_type": "stream",
     "text": [
      "(1, 28, 28, 1)\n",
      "(1, 6)\n"
     ]
    }
   ],
   "source": [
    "import numpy as np\n",
    "import random\n",
    "import tensorflow_datasets as tfds\n",
    "\n",
    "#import minst dataset and split to test trin\n",
    "mnist_dataset, mnist_info = tfds.load(name='crema_d', with_info=True, as_supervised=True)\n",
    "\n",
    "def scale(waveform, label):\n",
    "    waveform = tf.cast(waveform,tf.float64)\n",
    "    spectrogram = tf.signal.stft(\n",
    "    waveform, frame_length=255, frame_step=128)\n",
    "    spectrogram = tf.abs(spectrogram)\n",
    "    spectrogram = spectrogram[..., tf.newaxis]\n",
    "    spectrogram = tf.image.resize(spectrogram,(28,28))\n",
    "    label = tf.one_hot(label, 6)\n",
    "    return spectrogram, label\n",
    "\n",
    "train_data = mnist_dataset['train'].map(scale)\n",
    "test_data = mnist_dataset['test'].map(scale)\n",
    "train_image , train_label = next(iter(train_data.batch(1)))\n",
    "\n",
    "train_ds = train_data.shuffle(10).cache().prefetch(10).batch(64)\n",
    "test_ds = test_data.cache().prefetch(10).batch(64)\n",
    "\n",
    "print(train_image.shape)\n",
    "print(train_label.shape)"
   ]
  },
  {
   "cell_type": "code",
   "execution_count": null,
   "metadata": {},
   "outputs": [
    {
     "data": {
      "text/plain": [
       "\"mnist_dataset , mnist_info = tfds.load(name='mnist', with_info=True, as_supervised=True)\\ntrain_data = mnist_dataset['train']\\ntest_data = mnist_dataset['test']\\ndef scale(image, label):\\n    image = tf.cast(image,tf.float64)\\n    image = image/255\\n    label = tf.one_hot(label, 10)\\n    return image, label\\ntrain_data = train_data.map(scale)\\ntest_data = test_data.map(scale)\\ntrain_ds = train_data.cache().batch(64).prefetch(10)\\ntest_ds = test_data.cache().batch(64).prefetch(10)\\ntrain_image , train_label = next(iter(train_data.batch(1)))\\nprint(train_image.shape)\\nprint(train_label)\""
      ]
     },
     "execution_count": 6,
     "metadata": {},
     "output_type": "execute_result"
    }
   ],
   "source": [
    "'''mnist_dataset , mnist_info = tfds.load(name='mnist', with_info=True, as_supervised=True)\n",
    "train_data = mnist_dataset['train']\n",
    "test_data = mnist_dataset['test']\n",
    "def scale(image, label):\n",
    "    image = tf.cast(image,tf.float64)\n",
    "    image = image/255\n",
    "    label = tf.one_hot(label, 10)\n",
    "    return image, label\n",
    "train_data = train_data.map(scale)\n",
    "test_data = test_data.map(scale)\n",
    "train_ds = train_data.cache().batch(64).prefetch(10)\n",
    "test_ds = test_data.cache().batch(64).prefetch(10)\n",
    "train_image , train_label = next(iter(train_data.batch(1)))\n",
    "print(train_image.shape)\n",
    "print(train_label)'''"
   ]
  },
  {
   "cell_type": "markdown",
   "metadata": {},
   "source": []
  },
  {
   "cell_type": "code",
   "execution_count": null,
   "metadata": {},
   "outputs": [
    {
     "ename": "IndexError",
     "evalue": "list index out of range",
     "output_type": "error",
     "traceback": [
      "\u001b[0;31m---------------------------------------------------------------------------\u001b[0m",
      "\u001b[0;31mIndexError\u001b[0m                                Traceback (most recent call last)",
      "Cell \u001b[0;32mIn[7], line 1\u001b[0m\n\u001b[0;32m----> 1\u001b[0m model \u001b[38;5;241m=\u001b[39m \u001b[43mcreate_model\u001b[49m\u001b[43m(\u001b[49m\u001b[43mg1\u001b[49m\u001b[43m,\u001b[49m\u001b[43m(\u001b[49m\u001b[38;5;241;43m28\u001b[39;49m\u001b[43m,\u001b[49m\u001b[38;5;241;43m28\u001b[39;49m\u001b[43m,\u001b[49m\u001b[38;5;241;43m1\u001b[39;49m\u001b[43m)\u001b[49m\u001b[43m,\u001b[49m\u001b[38;5;241;43m10\u001b[39;49m\u001b[43m)\u001b[49m\n",
      "File \u001b[0;32m/workspaces/GA-Graph/model.py:49\u001b[0m, in \u001b[0;36mcreate_model\u001b[0;34m(dag, input_size, output_size)\u001b[0m\n\u001b[1;32m     47\u001b[0m     concat_layer \u001b[38;5;241m=\u001b[39m ZeroPadConcatLayer(name\u001b[38;5;241m=\u001b[39m\u001b[38;5;124mf\u001b[39m\u001b[38;5;124m'\u001b[39m\u001b[38;5;132;01m{\u001b[39;00mnode\u001b[38;5;132;01m}\u001b[39;00m\u001b[38;5;124m_concatenate\u001b[39m\u001b[38;5;124m'\u001b[39m)([layer_dict[node] \u001b[38;5;28;01mfor\u001b[39;00m node \u001b[38;5;129;01min\u001b[39;00m predecessors])\n\u001b[1;32m     48\u001b[0m \u001b[38;5;28;01melse\u001b[39;00m:\n\u001b[0;32m---> 49\u001b[0m     concat_layer \u001b[38;5;241m=\u001b[39m layer_dict[\u001b[43mpredecessors\u001b[49m\u001b[43m[\u001b[49m\u001b[38;5;241;43m0\u001b[39;49m\u001b[43m]\u001b[49m]\n\u001b[1;32m     50\u001b[0m drop \u001b[38;5;241m=\u001b[39m tf\u001b[38;5;241m.\u001b[39mkeras\u001b[38;5;241m.\u001b[39mlayers\u001b[38;5;241m.\u001b[39mDropout(rate\u001b[38;5;241m=\u001b[39m\u001b[38;5;241m0.8\u001b[39m, name\u001b[38;5;241m=\u001b[39m\u001b[38;5;124mf\u001b[39m\u001b[38;5;124m'\u001b[39m\u001b[38;5;132;01m{\u001b[39;00mnode\u001b[38;5;132;01m}\u001b[39;00m\u001b[38;5;124m_dropout\u001b[39m\u001b[38;5;124m'\u001b[39m)(concat_layer)\n\u001b[1;32m     51\u001b[0m \u001b[38;5;66;03m#pool = tf.keras.layers.Dense(name=f'{node}_globalaveragepooling2d')(drop)\u001b[39;00m\n",
      "\u001b[0;31mIndexError\u001b[0m: list index out of range"
     ]
    }
   ],
   "source": [
    "model = create_model(g1,(28,28,1),10)"
   ]
  },
  {
   "cell_type": "code",
   "execution_count": null,
   "metadata": {},
   "outputs": [],
   "source": [
    "\n",
    "model.compile(optimizer='adam', loss=tf.keras.losses.SparseCategoricalCrossentropy(from_logits=True), metrics=[tf.keras.metrics.SparseCategoricalAccuracy(),\n",
    "                                                                                                               #tf.keras.metrics.AUC(from_logits=True),\n",
    "                                                                                                               #tf.keras.metrics.Precision(),\n",
    "                                                                                                               #tf.keras.metrics.Recall()\n",
    "                                                                                                               ])"
   ]
  },
  {
   "cell_type": "code",
   "execution_count": null,
   "metadata": {},
   "outputs": [],
   "source": [
    "model.summary()"
   ]
  },
  {
   "cell_type": "code",
   "execution_count": null,
   "metadata": {},
   "outputs": [],
   "source": [
    "tf.keras.utils.plot_model(model, to_file='model.png', show_shapes=True)"
   ]
  },
  {
   "cell_type": "code",
   "execution_count": null,
   "metadata": {},
   "outputs": [],
   "source": [
    "g1 = create_random_graph(5,0.5)\n",
    "g1 = assign_states(g1,(1,3,1))\n",
    "fig , ax = plt.subplots(2,1)\n",
    "g3 = mutate_dag(g1)\n",
    "nx.draw(g1, with_labels=True, ax=ax[0])\n",
    "nx.draw(g3, with_labels=True, ax=ax[1])\n",
    "plt.draw()\n"
   ]
  },
  {
   "cell_type": "code",
   "execution_count": null,
   "metadata": {},
   "outputs": [],
   "source": [
    "g4 = crossover(g1,g3)\n",
    "fig , ax = plt.subplots(2,1)\n",
    "nx.draw(g1, with_labels=True, ax=ax[0])\n",
    "nx.draw(g4, with_labels=True, ax=ax[1])\n",
    "plt.draw()"
   ]
  },
  {
   "cell_type": "code",
   "execution_count": null,
   "metadata": {},
   "outputs": [],
   "source": [
    "from graph import create_random_graph , to_useful, assign_states\n",
    "dag = to_useful(g1)"
   ]
  },
  {
   "cell_type": "code",
   "execution_count": null,
   "metadata": {},
   "outputs": [],
   "source": [
    "in1 = Individual((28,28,1),(6),(1,3,1),5,0.9)\n",
    "tf.keras.utils.plot_model(in1.model, to_file='model.png', show_shapes=True)\n",
    "model = in1.model\n",
    "visualkeras.layered_view(model, to_file='output.png').show() # view model structure in jupyter (suggested)"
   ]
  },
  {
   "cell_type": "code",
   "execution_count": null,
   "metadata": {},
   "outputs": [],
   "source": [
    "optimizer = tf.keras.optimizers.legacy.Adam(learning_rate=0.001)\n",
    "callback = tf.keras.callbacks.ReduceLROnPlateau()\n",
    "model.compile(optimizer=optimizer, loss=tf.keras.losses.CategoricalCrossentropy(), metrics=[tf.keras.metrics.Accuracy(),\n",
    "                                                                                                               #tf.keras.metrics.AUC(from_logits=True),\n",
    "                                                                                                               #tf.keras.metrics.Precision(),\n",
    "                                                                                                               #tf.keras.metrics.Recall()\n",
    "                                                                                                               ])\n",
    "model.summary()"
   ]
  },
  {
   "cell_type": "code",
   "execution_count": null,
   "metadata": {},
   "outputs": [],
   "source": [
    "model.fit(train_ds,validation_data=test_ds, epochs=10, callbacks=[callback])"
   ]
  },
  {
   "cell_type": "code",
   "execution_count": null,
   "metadata": {},
   "outputs": [],
   "source": [
    "ga = Generation(input_size=(28,28,1),output_size=(6),states=(1,8,1),nodes=10,edges=0.6,population=7,limit=18,train_ds=train_ds,test_ds=test_ds)\n",
    "ga.run(10,0.8,0.8)"
   ]
  },
  {
   "cell_type": "code",
   "execution_count": null,
   "metadata": {},
   "outputs": [],
   "source": []
  }
 ],
 "metadata": {
  "kernelspec": {
   "display_name": ".venv",
   "language": "python",
   "name": "python3"
  },
  "language_info": {
   "codemirror_mode": {
    "name": "ipython",
    "version": 3
   },
   "file_extension": ".py",
   "mimetype": "text/x-python",
   "name": "python",
   "nbconvert_exporter": "python",
   "pygments_lexer": "ipython3",
   "version": "3.10.13"
  }
 },
 "nbformat": 4,
 "nbformat_minor": 2
}
